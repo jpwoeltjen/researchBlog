{
 "cells": [
  {
   "attachments": {},
   "cell_type": "markdown",
   "metadata": {
    "id": "tTisc-cQpT62"
   },
   "source": [
    "# Portfolio Optimization within a Bayesian Framework\n",
    "> Optimal portfolio weights accounting for aleatoric and epistemic uncertainty.\n",
    "\n",
    "- toc: true \n",
    "- badges: true\n",
    "- comments: true\n",
    "- categories: [probabilistic programming, bayesian, portfolio optimization]\n",
    "- image: https://github.com/jpwoeltjen/researchBlog/blob/master/images/bayesian_portfolio_opt.png\n",
    "\n",
    "\n",
    "\n"
   ]
  },
  {
   "cell_type": "markdown",
   "metadata": {
    "id": "LWHGuvPHl-aS"
   },
   "source": [
    "The Bayesian framework for portfolio optimization offers very important advantages compared to the classical approach. Among them are the following:\n",
    "\n",
    "- The Bayesian framework accounts for full uncertainty:\n",
    "\n",
    "  - Aleatoric uncertainty: inherent variance of returns.\n",
    "  - Epistemic uncertainty: parameter uncertainty due to limited data (at every step).\n",
    "\n",
    "- The specification of complex models with constraints is natural and estimation via MCMC straightforward.\n",
    "\n"
   ]
  },
  {
   "cell_type": "markdown",
   "metadata": {
    "id": "obPCOIjwaV8w"
   },
   "source": [
    "# The optimization problem"
   ]
  },
  {
   "cell_type": "markdown",
   "metadata": {
    "id": "xY7jrKyinMrY"
   },
   "source": [
    "The general idea is to (numerically) maximize the expected utility based on a large number of sample draws from the posterior predictive distribution of returns:\n",
    "\n",
    "\\begin{equation}\n",
    "\\begin{aligned}\n",
    "\\max _{\\boldsymbol{\\omega}} \\mathrm{E}\\left[U\\left(\\boldsymbol{\\omega}^{\\prime} \\mathbf{r}_{T+1}\\right)\\right]=& \\max _{\\boldsymbol{\\omega}} \\int U\\left(\\boldsymbol{\\omega}^{\\prime} \\mathbf{r}_{T+1}\\right) p\\left(\\mathbf{r}_{T+1} \\mid \\mathbf{\\mathcal{D}}\\right) \\mathrm{d} \\mathbf{r}_{T+1} \\\\\n",
    "\\text { subject to } & \\boldsymbol{\\omega}^{\\prime} \\mathbf{1}=1,\n",
    "\\end{aligned}\n",
    "\\end{equation}\n",
    "\n",
    "where:\n",
    "- $\\mathbf{r}_{T+1}$ :  vector of returns at $T+1$.\n",
    "- $\\mathbf{\\mathcal{D}}$ : predictive and observable features.\n",
    "- $U(\\cdot)$ : utility function (quadratic utility is unrealistic; utility function should punish large losses but not large gains).\n",
    "- $\\boldsymbol{\\omega}$ : vector of portfolio weights. \n",
    "- $\\mathbf{\\Sigma}$ : covariance matrix of returns. \n",
    "- $\\lambda$ : risk aversion parameter."
   ]
  },
  {
   "cell_type": "markdown",
   "metadata": {
    "id": "eFIaAs9KusrT"
   },
   "source": [
    "If the utility function is quadratic:\n",
    "\\begin{equation}\n",
    "\\mathrm{E}[U(\\boldsymbol{\\omega})]=\\boldsymbol{\\omega}^{\\prime} \\mathrm{E}(\\mathbf{r})-\\lambda \\boldsymbol{\\omega}^{\\prime} \\mathbf{\\Sigma} \\boldsymbol{\\omega}.\n",
    "\\end{equation}\n",
    "\n"
   ]
  },
  {
   "cell_type": "markdown",
   "metadata": {
    "id": "uN8lihc5MrtM"
   },
   "source": [
    "# Implementation"
   ]
  },
  {
   "cell_type": "markdown",
   "metadata": {
    "id": "FyJttugDGN04"
   },
   "source": [
    "To model high-dimensional returns with covariance, coskewness, and cokurtosis it is convenient (and also plausible) to assume a factor model.\n",
    "For each $t, t=1, \\ldots, T,$ estimate the cross-sectional regression  and obtain the time series of factor return estimates $F,$ and specific return estimates $\\widehat{E}$\n",
    "$$\n",
    "\\widehat{\\mathbf{F}}=\\left(\\begin{array}{llll}\n",
    "\\widehat{f}_{1,1} & \\widehat{f}_{1,2} & \\cdots & \\widehat{f}_{1, K} \\\\\n",
    "\\cdots & \\cdots & \\cdots & \\cdots \\\\\n",
    "\\widehat{f}_{t, 1} & \\widehat{f}_{t, 2} & \\cdots & \\widehat{f}_{t, K} \\\\\n",
    "\\cdots & \\cdots & \\cdots & \\hat{f}_{T, K}\n",
    "\\end{array}\\right)\n",
    "$$\n",
    "and\n",
    "$$\n",
    "\\widehat{\\mathbf{E}}=\\left(\\begin{array}{llll}\n",
    "\\widehat{e}_{1,1} & \\widehat{e}_{1,2} & \\cdots & \\widehat{e}_{1, N} \\\\\n",
    "\\cdots & \\cdots & \\cdots & \\cdots \\\\\n",
    "\\widehat{e}_{t, 1} & \\widehat{e}_{t, 2} & \\cdots & \\widehat{e}_{t, N} \\\\\n",
    "\\cdots & \\cdots & \\cdots & \\widehat{e}_{T, N}\n",
    "\\end{array}\\right)\n",
    "$$\n",
    "respectively.\n",
    "\n"
   ]
  },
  {
   "cell_type": "markdown",
   "metadata": {
    "id": "wYEXqUsWGwaL"
   },
   "source": [
    "Predict (simulate) the expected returns, factor returns, and stock-specific returns and use them as drivers to compute scenarios of the stock returns according to\n",
    "$$\n",
    "\\tilde{\\mathbf{r}}=\\tilde{\\boldsymbol{\\mu}} +{\\mathbf{B} \\tilde{\\mathbf{f}}}+\\tilde{\\mathbf{e}}\n",
    "$$\n",
    "where $\\tilde{\\boldsymbol{\\mu}}$ is the matrix of simulated mean returns for $N$ assets, generated from the posterior predictive distribution of the conditional expectation model, and $\\tilde{\\mathbf{f}}$ and $\\tilde{\\mathbf{e}}$ are the predicted (simulated) factor and stock-specific returns, respectively."
   ]
  },
  {
   "cell_type": "markdown",
   "metadata": {
    "id": "-XEUigoYD0Qv"
   },
   "source": [
    "- Use high-frequency (HF) data to extact factors (including industries).\n",
    "- Use HF data to compute loadings.\n",
    "- Use Bayesian (realized) MV-GARCH to forecast factor returns.\n",
    "- Use Bayesian (realized) GARCH to forecast stock specific returns (if all factors are accounted for these can be assumed independent)\n",
    "- Estimate the posterior predictive distribution of the conditional expectation $\\boldsymbol{\\mu}$ (for example via a Bayesian neural network) and sample from it.\n",
    "- Simulate 10,000 MC draws according to $\n",
    "\\tilde{\\mathbf{r}}=\\tilde{\\boldsymbol{\\mu}} +{\\mathbf{B} \\tilde{\\mathbf{f}}}+\\tilde{\\mathbf{e}}\n",
    "$.\n",
    "\n",
    "- Optimize (empirical; based on the sample draws) expected utility.\n",
    "\n",
    "There are GARCH-type models that account for coskewness (GRJ-GARCH) and cokurtosis (BEKK). GARCH based on Student's t innovations are better able to capture heaviness of tails. \n",
    "Minimizing the expected shortfall subject to an expected return constraint is a valid portfolio optimization procedure in a non-Gaussian setting (where the standard deviation is not an appropriate risk measure). "
   ]
  },
  {
   "cell_type": "code",
   "execution_count": null,
   "metadata": {
    "id": "Dfh3vdCBkISq"
   },
   "outputs": [],
   "source": []
  }
 ],
 "metadata": {
  "colab": {
   "collapsed_sections": [],
   "name": "2020-10-01-bayesian_porfolio_optimization.ipynb",
   "provenance": []
  },
  "kernelspec": {
   "display_name": "Python 3",
   "language": "python",
   "name": "python3"
  },
  "language_info": {
   "codemirror_mode": {
    "name": "ipython",
    "version": 3
   },
   "file_extension": ".py",
   "mimetype": "text/x-python",
   "name": "python",
   "nbconvert_exporter": "python",
   "pygments_lexer": "ipython3",
   "version": "3.6.10"
  },
  "toc": {
   "base_numbering": 1,
   "nav_menu": {},
   "number_sections": true,
   "sideBar": true,
   "skip_h1_title": false,
   "title_cell": "Table of Contents",
   "title_sidebar": "Contents",
   "toc_cell": false,
   "toc_position": {},
   "toc_section_display": true,
   "toc_window_display": false
  }
 },
 "nbformat": 4,
 "nbformat_minor": 1
}
